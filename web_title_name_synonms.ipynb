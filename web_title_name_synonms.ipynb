{
  "nbformat": 4,
  "nbformat_minor": 0,
  "metadata": {
    "colab": {
      "name": "web_title_name_synonms.ipynb",
      "provenance": [],
      "collapsed_sections": [],
      "toc_visible": true,
      "authorship_tag": "ABX9TyPIicXMgtm8WkGzfTvDlNJD",
      "include_colab_link": true
    },
    "kernelspec": {
      "name": "python3",
      "display_name": "Python 3"
    },
    "language_info": {
      "name": "python"
    }
  },
  "cells": [
    {
      "cell_type": "markdown",
      "metadata": {
        "id": "view-in-github",
        "colab_type": "text"
      },
      "source": [
        "<a href=\"https://colab.research.google.com/github/arpan-sharma/Automation_IN_SEO_Websites/blob/main/web_title_name_synonms.ipynb\" target=\"_parent\"><img src=\"https://colab.research.google.com/assets/colab-badge.svg\" alt=\"Open In Colab\"/></a>"
      ]
    },
    {
      "cell_type": "code",
      "metadata": {
        "colab": {
          "base_uri": "https://localhost:8080/"
        },
        "id": "5p40hCEQa2ky",
        "outputId": "92f4e02e-8e10-47dc-b12b-1713d036af6f"
      },
      "source": [
        "print(\"Jai Mata Dee\")"
      ],
      "execution_count": 26,
      "outputs": [
        {
          "output_type": "stream",
          "name": "stdout",
          "text": [
            "Jai Mata Dee\n"
          ]
        }
      ]
    },
    {
      "cell_type": "code",
      "metadata": {
        "id": "35CwNTee0M_Y"
      },
      "source": [
        "#import\n",
        "import requests\n",
        "from bs4 import BeautifulSoup\n"
      ],
      "execution_count": 27,
      "outputs": []
    },
    {
      "cell_type": "code",
      "metadata": {
        "colab": {
          "base_uri": "https://localhost:8080/"
        },
        "id": "ZiO7VBrO0UNW",
        "outputId": "b8329c6f-2ecf-4437-9b0e-c57fccacc1c2"
      },
      "source": [
        "#Enter Url\n",
        "url = input(\"Please Enter Your Website URL:- \")"
      ],
      "execution_count": 28,
      "outputs": [
        {
          "name": "stdout",
          "output_type": "stream",
          "text": [
            "Please Enter Your Website URL:- https://www.facebook.com/\n"
          ]
        }
      ]
    },
    {
      "cell_type": "code",
      "metadata": {
        "id": "3hTbeDWM00mb"
      },
      "source": [
        "page  = requests.get(url).text\n",
        "soup_page = BeautifulSoup(page)"
      ],
      "execution_count": 29,
      "outputs": []
    },
    {
      "cell_type": "code",
      "metadata": {
        "id": "_7nVaYdZ1AXb"
      },
      "source": [
        "title = soup_page.title\n",
        "title = str(title)"
      ],
      "execution_count": 30,
      "outputs": []
    },
    {
      "cell_type": "code",
      "metadata": {
        "id": "tzaL7gPp0ljB"
      },
      "source": [
        "start_val = title.find('<title>')\n",
        "end_val = title.find('</title>')\n",
        "title = title[7:82]\n",
        "title = title.strip()"
      ],
      "execution_count": 31,
      "outputs": []
    },
    {
      "cell_type": "code",
      "metadata": {
        "id": "zPFg2C2bC3bs"
      },
      "source": [
        "title = title.replace('|', '')\n",
        "splits = title.split()\n",
        "title_list = []\n",
        "for split in splits:\n",
        "  title_list.append(split)"
      ],
      "execution_count": 32,
      "outputs": []
    },
    {
      "cell_type": "code",
      "metadata": {
        "colab": {
          "base_uri": "https://localhost:8080/"
        },
        "id": "P9jXopPacNlX",
        "outputId": "de478600-b094-4149-cb4e-870153a5e2e7"
      },
      "source": [
        "#import \n",
        "import nltk\n",
        "nltk.download('wordnet')"
      ],
      "execution_count": 33,
      "outputs": [
        {
          "output_type": "stream",
          "name": "stdout",
          "text": [
            "[nltk_data] Downloading package wordnet to /root/nltk_data...\n",
            "[nltk_data]   Package wordnet is already up-to-date!\n"
          ]
        },
        {
          "output_type": "execute_result",
          "data": {
            "text/plain": [
              "True"
            ]
          },
          "metadata": {},
          "execution_count": 33
        }
      ]
    },
    {
      "cell_type": "code",
      "metadata": {
        "id": "I2AzQwb-u9MI"
      },
      "source": [
        "from nltk.corpus import wordnet"
      ],
      "execution_count": 34,
      "outputs": []
    },
    {
      "cell_type": "code",
      "metadata": {
        "id": "RNRKmWW9qpkl"
      },
      "source": [
        "#create List\n",
        "array_synonms = []"
      ],
      "execution_count": 35,
      "outputs": []
    },
    {
      "cell_type": "code",
      "metadata": {
        "id": "Cfy6l-PAstvD"
      },
      "source": [
        "# blank_list = []\n",
        "# for z in title_list:\n",
        "#   for x in wordnet.synsets(z):\n",
        "#     for i in x.lemaas():\n",
        "#       blank_list.append(i.name())\n",
        "# print(blank_list)\n",
        "for z in title_list:\n",
        "  val = {z:{val.name()for val in x.lemmas()} for x in wordnet.synsets(z)}\n",
        "  array_synonms.append(val)"
      ],
      "execution_count": 36,
      "outputs": []
    },
    {
      "cell_type": "code",
      "metadata": {
        "id": "kZM5aP7nucLy"
      },
      "source": [
        "# synonms_words = set(array_synonms)"
      ],
      "execution_count": 37,
      "outputs": []
    },
    {
      "cell_type": "code",
      "metadata": {
        "colab": {
          "base_uri": "https://localhost:8080/"
        },
        "id": "MmBwCBtcvYXx",
        "outputId": "c0014d9a-3767-443a-9851-04a75edf4997"
      },
      "source": [
        "print(array_synonms)"
      ],
      "execution_count": 39,
      "outputs": [
        {
          "output_type": "stream",
          "name": "stdout",
          "text": [
            "[{}, {}, {'Log': {'log', 'lumber'}}, {'In': {'in', 'inwards', 'inward'}}, {'or': {'OR', 'operating_theater', 'operating_room', 'operating_theatre', 'surgery'}}, {'Sign': {'sign', 'gestural', 'signed', 'sign-language'}}, {}]\n"
          ]
        }
      ]
    },
    {
      "cell_type": "code",
      "metadata": {
        "id": "WIOuG2yYF5xT"
      },
      "source": [
        ""
      ],
      "execution_count": 38,
      "outputs": []
    },
    {
      "cell_type": "code",
      "metadata": {
        "id": "NeyQ_cQx8UOL"
      },
      "source": [
        ""
      ],
      "execution_count": 38,
      "outputs": []
    }
  ]
}