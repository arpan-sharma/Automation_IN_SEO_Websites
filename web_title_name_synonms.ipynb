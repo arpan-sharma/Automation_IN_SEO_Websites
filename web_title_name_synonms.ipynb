{
  "nbformat": 4,
  "nbformat_minor": 0,
  "metadata": {
    "colab": {
      "name": "web_title_name_synonms.ipynb",
      "provenance": [],
      "collapsed_sections": [],
      "mount_file_id": "1IwPa3vWOJECJvlr7oFvE3Ai_KF7n3Jio",
      "authorship_tag": "ABX9TyN5vSGuGQo9H/Cl9Ho2QjFe",
      "include_colab_link": true
    },
    "kernelspec": {
      "name": "python3",
      "display_name": "Python 3"
    },
    "language_info": {
      "name": "python"
    }
  },
  "cells": [
    {
      "cell_type": "markdown",
      "metadata": {
        "id": "view-in-github",
        "colab_type": "text"
      },
      "source": [
        "<a href=\"https://colab.research.google.com/github/arpan-sharma/Automation_IN_SEO_Websites/blob/main/web_title_name_synonms.ipynb\" target=\"_parent\"><img src=\"https://colab.research.google.com/assets/colab-badge.svg\" alt=\"Open In Colab\"/></a>"
      ]
    },
    {
      "cell_type": "code",
      "metadata": {
        "colab": {
          "base_uri": "https://localhost:8080/"
        },
        "id": "5p40hCEQa2ky",
        "outputId": "92f4e02e-8e10-47dc-b12b-1713d036af6f"
      },
      "source": [
        "print(\"Jai Mata Dee\")"
      ],
      "execution_count": null,
      "outputs": [
        {
          "output_type": "stream",
          "name": "stdout",
          "text": [
            "Jai Mata Dee\n"
          ]
        }
      ]
    },
    {
      "cell_type": "code",
      "metadata": {
        "id": "35CwNTee0M_Y"
      },
      "source": [
        "#import\n",
        "import requests\n",
        "from bs4 import BeautifulSoup\n",
        "import pandas as pd"
      ],
      "execution_count": 81,
      "outputs": []
    },
    {
      "cell_type": "code",
      "metadata": {
        "colab": {
          "base_uri": "https://localhost:8080/"
        },
        "id": "ZiO7VBrO0UNW",
        "outputId": "a1e19d48-2065-48a4-e55f-a24b2c16a43c"
      },
      "source": [
        "#Enter Url\n",
        "url = input(\"Please Enter Your Website URL:- \")"
      ],
      "execution_count": 59,
      "outputs": [
        {
          "name": "stdout",
          "output_type": "stream",
          "text": [
            "Please Enter Your Website URL:- https://www.exambuses.com/\n"
          ]
        }
      ]
    },
    {
      "cell_type": "code",
      "metadata": {
        "id": "3hTbeDWM00mb"
      },
      "source": [
        "page  = requests.get(url).text\n",
        "soup_page = BeautifulSoup(page)"
      ],
      "execution_count": 63,
      "outputs": []
    },
    {
      "cell_type": "code",
      "metadata": {
        "id": "_7nVaYdZ1AXb"
      },
      "source": [
        "title = soup_page.title\n",
        "title = str(title)"
      ],
      "execution_count": 64,
      "outputs": []
    },
    {
      "cell_type": "code",
      "metadata": {
        "id": "tzaL7gPp0ljB"
      },
      "source": [
        "start_val = title.find('>')\n",
        "end_val = title.find('</title>')\n",
        "title = title[start_val+1 :end_val]\n",
        "title = title.strip()"
      ],
      "execution_count": 69,
      "outputs": []
    },
    {
      "cell_type": "code",
      "metadata": {
        "id": "zPFg2C2bC3bs"
      },
      "source": [
        "title = title.replace('|', '')\n",
        "splits = title.split()\n",
        "title_list = []\n",
        "for split in splits:\n",
        "  title_list.append(split)"
      ],
      "execution_count": 70,
      "outputs": []
    },
    {
      "cell_type": "code",
      "metadata": {
        "colab": {
          "base_uri": "https://localhost:8080/"
        },
        "id": "P9jXopPacNlX",
        "outputId": "673e8782-a9ab-4481-f328-28a5c93fdd36"
      },
      "source": [
        "#import \n",
        "import nltk\n",
        "nltk.download('wordnet')"
      ],
      "execution_count": 71,
      "outputs": [
        {
          "output_type": "stream",
          "name": "stdout",
          "text": [
            "[nltk_data] Downloading package wordnet to /root/nltk_data...\n",
            "[nltk_data]   Package wordnet is already up-to-date!\n"
          ]
        },
        {
          "output_type": "execute_result",
          "data": {
            "text/plain": [
              "True"
            ]
          },
          "metadata": {},
          "execution_count": 71
        }
      ]
    },
    {
      "cell_type": "code",
      "metadata": {
        "id": "I2AzQwb-u9MI"
      },
      "source": [
        "from nltk.corpus import wordnet"
      ],
      "execution_count": 72,
      "outputs": []
    },
    {
      "cell_type": "code",
      "metadata": {
        "id": "RNRKmWW9qpkl"
      },
      "source": [
        "#create List\n",
        "array_synonms = []"
      ],
      "execution_count": 73,
      "outputs": []
    },
    {
      "cell_type": "code",
      "metadata": {
        "id": "Cfy6l-PAstvD"
      },
      "source": [
        "# blank_list = []\n",
        "# for z in title_list:\n",
        "#   for x in wordnet.synsets(z):\n",
        "#     for i in x.lemaas():\n",
        "#       blank_list.append(i.name())\n",
        "# print(blank_list)\n",
        "for z in title_list:\n",
        "  val = {z:{val.name()for val in x.lemmas()} for x in wordnet.synsets(z)}\n",
        "  array_synonms.append(val)"
      ],
      "execution_count": 74,
      "outputs": []
    },
    {
      "cell_type": "code",
      "metadata": {
        "id": "kZM5aP7nucLy"
      },
      "source": [
        "# synonms_words = set(array_synonms)"
      ],
      "execution_count": 75,
      "outputs": []
    },
    {
      "cell_type": "code",
      "metadata": {
        "id": "MmBwCBtcvYXx"
      },
      "source": [
        "for_name = title_list[0].replace('.com', '')\n",
        "with open(f'/content/drive/MyDrive/synonms/{for_name}.txt','w') as f:\n",
        "  array_synonms = str(array_synonms)\n",
        "  f.write(array_synonms)"
      ],
      "execution_count": 83,
      "outputs": []
    },
    {
      "cell_type": "code",
      "metadata": {
        "id": "WIOuG2yYF5xT"
      },
      "source": [
        ""
      ],
      "execution_count": null,
      "outputs": []
    },
    {
      "cell_type": "code",
      "metadata": {
        "id": "NeyQ_cQx8UOL"
      },
      "source": [
        ""
      ],
      "execution_count": null,
      "outputs": []
    }
  ]
}