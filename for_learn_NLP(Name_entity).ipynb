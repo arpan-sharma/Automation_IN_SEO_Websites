{
  "nbformat": 4,
  "nbformat_minor": 0,
  "metadata": {
    "colab": {
      "name": "for_learn_NLP(Name-entity).ipynb",
      "provenance": [],
      "authorship_tag": "ABX9TyOWtiWIpMqygL3FjALv6j/R",
      "include_colab_link": true
    },
    "kernelspec": {
      "name": "python3",
      "display_name": "Python 3"
    },
    "language_info": {
      "name": "python"
    }
  },
  "cells": [
    {
      "cell_type": "markdown",
      "metadata": {
        "id": "view-in-github",
        "colab_type": "text"
      },
      "source": [
        "<a href=\"https://colab.research.google.com/github/arpan-sharma/Automation_IN_SEO_Websites/blob/main/for_learn_NLP(Name_entity).ipynb\" target=\"_parent\"><img src=\"https://colab.research.google.com/assets/colab-badge.svg\" alt=\"Open In Colab\"/></a>"
      ]
    },
    {
      "cell_type": "code",
      "metadata": {
        "id": "7ZzFKxeWT_zi"
      },
      "source": [
        "#Import Spacy\n",
        "import spacy"
      ],
      "execution_count": null,
      "outputs": []
    },
    {
      "cell_type": "code",
      "metadata": {
        "id": "pl7wl5bbUY6y"
      },
      "source": [
        "nlp = spacy.load('en_core_web_sm')"
      ],
      "execution_count": null,
      "outputs": []
    },
    {
      "cell_type": "code",
      "metadata": {
        "id": "FW-0S_biUzA2"
      },
      "source": [
        "#define A function\n",
        "def show_ents(doc):\n",
        "  if doc.ents:\n",
        "    for ent in doc.ents:\n",
        "      print(ent.text+ ' _ '+ ent.label_+ ' _' + str(spacy.explain(ent.label_)))\n",
        "  else:\n",
        "    print(\"No Entity in This Sentance \")"
      ],
      "execution_count": null,
      "outputs": []
    },
    {
      "cell_type": "code",
      "metadata": {
        "id": "Dybf3s4XZu0k"
      },
      "source": [
        "#Example \n",
        "doc = nlp(u\"ay i go to New york Exambuses\")"
      ],
      "execution_count": null,
      "outputs": []
    },
    {
      "cell_type": "code",
      "metadata": {
        "colab": {
          "base_uri": "https://localhost:8080/"
        },
        "id": "viVIQBxeaM3f",
        "outputId": "fd646019-9959-47cc-ba74-07c2e2443c1f"
      },
      "source": [
        "show_ents(doc)"
      ],
      "execution_count": null,
      "outputs": [
        {
          "output_type": "stream",
          "name": "stdout",
          "text": [
            "New york _ GPE _Countries, cities, states\n"
          ]
        }
      ]
    },
    {
      "cell_type": "code",
      "metadata": {
        "id": "Lfn0Vmm4aPmX"
      },
      "source": [
        "#Insert Unique value in this vocab.\n",
        "from spacy.tokens import Span"
      ],
      "execution_count": null,
      "outputs": []
    },
    {
      "cell_type": "code",
      "metadata": {
        "id": "BSoUNW0dbVxD"
      },
      "source": [
        "ORG = doc.vocab.strings[u\"ORG\"]"
      ],
      "execution_count": null,
      "outputs": []
    },
    {
      "cell_type": "code",
      "metadata": {
        "colab": {
          "base_uri": "https://localhost:8080/"
        },
        "id": "KbzYmB1icLVJ",
        "outputId": "58d0ae60-db37-429e-cb96-16056a4ed8ee"
      },
      "source": [
        "ORG"
      ],
      "execution_count": null,
      "outputs": [
        {
          "output_type": "execute_result",
          "data": {
            "text/plain": [
              "383"
            ]
          },
          "metadata": {},
          "execution_count": 56
        }
      ]
    },
    {
      "cell_type": "code",
      "metadata": {
        "id": "3vbypA2Bbm_Z"
      },
      "source": [
        "fb_ent = Span(doc, 6, 7, label=\"ORG\")"
      ],
      "execution_count": null,
      "outputs": []
    },
    {
      "cell_type": "code",
      "metadata": {
        "id": "1ZzlV0Shd9yO"
      },
      "source": [
        "doc.ents = list(doc.ents)+[fb_ent]"
      ],
      "execution_count": null,
      "outputs": []
    },
    {
      "cell_type": "code",
      "metadata": {
        "colab": {
          "base_uri": "https://localhost:8080/"
        },
        "id": "CKb0aXnzfWm0",
        "outputId": "4b582374-0878-4dc6-a2f3-0b3a61dd22ac"
      },
      "source": [
        "show_ents(doc)"
      ],
      "execution_count": null,
      "outputs": [
        {
          "output_type": "stream",
          "name": "stdout",
          "text": [
            "New york _ GPE _Countries, cities, states\n",
            "Exambuses _ ORG _Companies, agencies, institutions, etc.\n"
          ]
        }
      ]
    },
    {
      "cell_type": "code",
      "metadata": {
        "colab": {
          "base_uri": "https://localhost:8080/"
        },
        "id": "VTW6Q8mAfhHy",
        "outputId": "02a4c47d-f828-4aa0-ad70-ba336f0b2309"
      },
      "source": [
        ""
      ],
      "execution_count": null,
      "outputs": [
        {
          "output_type": "execute_result",
          "data": {
            "text/plain": [
              "ay i go to new york Exambuses"
            ]
          },
          "metadata": {},
          "execution_count": 51
        }
      ]
    },
    {
      "cell_type": "code",
      "metadata": {
        "id": "87ecjHDUfo2t"
      },
      "source": [
        ""
      ],
      "execution_count": null,
      "outputs": []
    }
  ]
}